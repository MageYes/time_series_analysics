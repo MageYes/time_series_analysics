{
 "cells": [
  {
   "cell_type": "code",
   "execution_count": 1,
   "id": "2d94047c",
   "metadata": {
    "ExecuteTime": {
     "end_time": "2023-05-09T08:15:30.699188Z",
     "start_time": "2023-05-09T08:15:29.124667Z"
    }
   },
   "outputs": [],
   "source": [
    "import numpy as np\n",
    "import pandas as pd\n",
    "import datetime\n",
    "\n",
    "%matplotlib inline\n",
    "import matplotlib.pyplot as plt\n",
    "from matplotlib import style\n",
    "style.use('ggplot')  # 加载'ggplot'风格\n",
    "plt.rcParams['font.sans-serif'] = ['SimHei']  # 设置中文字体\n",
    "plt.rcParams['axes.unicode_minus'] = False  # 正常显示负号\n",
    "\n",
    "import sqlite3\n",
    "import csv\n",
    "\n",
    "from scipy import stats\n",
    "import statsmodels.api as sm\n",
    "import statsmodels.formula.api as smf # 回归\n",
    "from linearmodels.panel import PanelOLS # 面板回归\n",
    "from statsmodels.tsa.stattools import grangercausalitytests\n",
    "from statsmodels.tsa.stattools import adfuller # ADF\n",
    "from statsmodels.regression.rolling import RollingOLS\n",
    "\n",
    "from numpy import cumsum, log, polyfit, sqrt, std, subtract\n",
    "from numpy.random import randn\n",
    "\n",
    "from joblib import Parallel,delayed\n",
    "from tqdm import tqdm,tnrange,tqdm_notebook   \n",
    "import warnings\n",
    "warnings.filterwarnings(\"ignore\")\n",
    "\n",
    "from TimeSeriesAnalysis import Univariate_Time_Series_Analysis, Multivariate_Time_Series_Analysis"
   ]
  },
  {
   "cell_type": "markdown",
   "id": "fece6617",
   "metadata": {},
   "source": [
    "# 数据载入、清洗、查看"
   ]
  },
  {
   "cell_type": "code",
   "execution_count": 2,
   "id": "9eb0eda8",
   "metadata": {
    "ExecuteTime": {
     "end_time": "2023-05-09T08:15:30.715188Z",
     "start_time": "2023-05-09T08:15:30.701184Z"
    },
    "code_folding": [
     0
    ]
   },
   "outputs": [],
   "source": [
    "def clean_mainmonth_info(future_i, future_code):\n",
    "    month_num = future_i.shape[1]/4\n",
    "    month_num = int(month_num) if month_num == int(month_num) else month_num\n",
    "\n",
    "    future_i_mainmonth_info = pd.DataFrame()\n",
    "    for j in range(month_num):\n",
    "        future_i_month_j = future_i.iloc[3:,4*(j):4*(j+1)].dropna(how='all')\n",
    "        future_i_month_j_bid_info = future_i_month_j.iloc[:,:2].dropna(how='all')\n",
    "        future_i_month_j_ask_info = future_i_month_j.iloc[:,2:].dropna(how='all')\n",
    "        future_i_month_j_bid_info = future_i_month_j_bid_info.set_index(future_i_month_j_bid_info.columns[0])\n",
    "        future_i_month_j_ask_info = future_i_month_j_ask_info.set_index(future_i_month_j_ask_info.columns[0])\n",
    "\n",
    "        future_i_month_j_info = pd.merge(future_i_month_j_bid_info, future_i_month_j_ask_info, left_index=True, right_index=True, how='outer')\n",
    "        future_i_month_j_info.columns = [future_code+'_Bid', future_code+'_Ask']\n",
    "        # 本合约交割前一时刻\n",
    "        mainmonth_last_t = future_i_month_j_info.index.max()\n",
    "        future_i_mainmonth_info = future_i_mainmonth_info[future_i_mainmonth_info.index > mainmonth_last_t]\n",
    "        future_i_mainmonth_info = pd.concat([future_i_month_j_info, future_i_mainmonth_info])\n",
    "        \n",
    "    return future_i_mainmonth_info"
   ]
  },
  {
   "cell_type": "code",
   "execution_count": 3,
   "id": "f9f43e2d",
   "metadata": {
    "ExecuteTime": {
     "end_time": "2023-05-09T08:15:37.588538Z",
     "start_time": "2023-05-09T08:15:30.716188Z"
    },
    "code_folding": [
     0
    ]
   },
   "outputs": [],
   "source": [
    "# 载入汇率信息\n",
    "USDCNY = pd.read_excel('./pairtrading/USDCNY historical 1min.xlsx').dropna(how='all').T.dropna(how='all').T.iloc[3:]\n",
    "\n",
    "USDCNY_bid_info = USDCNY.iloc[:,:2].dropna(how='all')\n",
    "USDCNY_ask_info = USDCNY.iloc[:,2:].dropna(how='all')\n",
    "USDCNY_bid_info = USDCNY_bid_info.set_index(USDCNY_bid_info.columns[0])\n",
    "USDCNY_ask_info = USDCNY_ask_info.set_index(USDCNY_ask_info.columns[0])\n",
    "\n",
    "# 合并 排序 填充空值\n",
    "USDCNY_info = pd.merge(USDCNY_bid_info, USDCNY_ask_info, left_index=True, right_index=True, how='outer')\n",
    "USDCNY_info.sort_index(inplace=True)\n",
    "\n",
    "USDCNY_info.columns = ['USDCNY_Bid', 'USDCNY_Ask']"
   ]
  },
  {
   "cell_type": "code",
   "execution_count": 4,
   "id": "705e70b2",
   "metadata": {
    "ExecuteTime": {
     "end_time": "2023-05-09T08:15:50.417333Z",
     "start_time": "2023-05-09T08:15:37.590535Z"
    },
    "code_folding": [
     0
    ]
   },
   "outputs": [],
   "source": [
    "# 载入数据，丢弃空行空列\n",
    "future_CN = pd.read_excel('./pairtrading/CN.xlsx').dropna(how='all').T.dropna(how='all').T\n",
    "future_IH = pd.read_excel('./pairtrading/IH.xlsx').dropna(how='all').T.dropna(how='all').T\n",
    "\n",
    "# 合成主力合约价格信息\n",
    "future_CN_mainmonth_info = clean_mainmonth_info(future_CN, 'CN').sort_index()\n",
    "future_IH_mainmonth_info = clean_mainmonth_info(future_IH, 'IH').sort_index()\n",
    "\n",
    "# 注意：IH（上证50股指期货）撮合时间是9:30-15：00，CN（富时中国50股指期货）撮合时间是24小时，应该按照IH的时间合并\n",
    "future_mainmonth_info = pd.merge(future_CN_mainmonth_info, future_IH_mainmonth_info, left_index=True, right_index=True, how='right')\n",
    "future_mainmonth_info.sort_index(inplace=True)\n",
    "\n",
    "# 合并汇率信息和主连合约价格信息\n",
    "future_mainmonth_info = pd.merge(future_mainmonth_info, USDCNY_info, left_index=True, right_index=True, how='left')"
   ]
  },
  {
   "cell_type": "code",
   "execution_count": 5,
   "id": "5150bf32",
   "metadata": {
    "ExecuteTime": {
     "end_time": "2023-05-09T08:15:50.448685Z",
     "start_time": "2023-05-09T08:15:50.418107Z"
    },
    "code_folding": [
     0
    ]
   },
   "outputs": [
    {
     "data": {
      "text/plain": [
       "CN_Bid        0.000000\n",
       "CN_Ask        0.000000\n",
       "IH_Bid        0.000000\n",
       "IH_Ask        0.000064\n",
       "USDCNY_Bid    0.124666\n",
       "USDCNY_Ask    0.128043\n",
       "dtype: float64"
      ]
     },
     "execution_count": 5,
     "metadata": {},
     "output_type": "execute_result"
    }
   ],
   "source": [
    "# 查看数据缺失程度\n",
    "future_mainmonth_info.isna().sum(axis=0) / len(future_mainmonth_info)"
   ]
  },
  {
   "cell_type": "code",
   "execution_count": 6,
   "id": "c185af7c",
   "metadata": {
    "ExecuteTime": {
     "end_time": "2023-05-09T08:15:50.526803Z",
     "start_time": "2023-05-09T08:15:50.450684Z"
    }
   },
   "outputs": [],
   "source": [
    "# 计算中间价\n",
    "future_mainmonth_info.fillna(method='ffill')\n",
    "future_mainmonth_info.dropna(how = 'any',inplace=True)\n",
    "future_mainmonth_info['CN_mid_price'] = (future_mainmonth_info['CN_Bid'] + future_mainmonth_info['CN_Ask'])/2\n",
    "future_mainmonth_info['IH_mid_price'] = (future_mainmonth_info['IH_Bid'] + future_mainmonth_info['IH_Ask'])/2\n",
    "future_mainmonth_info['USDCNY_mid_price'] = (future_mainmonth_info['USDCNY_Bid'] + future_mainmonth_info['USDCNY_Ask'])/2\n",
    "\n",
    "# 计算经过汇率和合约乘数转换的IH_mid_price\n",
    "future_mainmonth_info['IH_mid_price_trans'] = 300 * future_mainmonth_info['IH_mid_price'] / future_mainmonth_info['USDCNY_mid_price']"
   ]
  },
  {
   "cell_type": "code",
   "execution_count": 7,
   "id": "61d846fe",
   "metadata": {
    "ExecuteTime": {
     "end_time": "2023-05-09T08:15:50.717727Z",
     "start_time": "2023-05-09T08:15:50.528802Z"
    }
   },
   "outputs": [],
   "source": [
    "future_mainmonth_info['IH_Bid'] = future_mainmonth_info['IH_Bid'] / future_mainmonth_info['USDCNY_mid_price'] * 300\n",
    "future_mainmonth_info['IH_Ask'] = future_mainmonth_info['IH_Ask'] / future_mainmonth_info['USDCNY_mid_price'] * 300\n",
    "future_mainmonth_info = future_mainmonth_info.reset_index()\n",
    "future_mainmonth_info.rename(columns={'index':'Time',\n",
    "                                     'CN_Bid':'CN_bid', 'CN_Ask\t':'CN_ask', \n",
    "                                     'IH_Bid':'IH_bid', 'IH_Ask\t':'IH_ask',}, inplace = True)\n",
    "future_mainmonth_info['CN_bid_qty'] = 100\n",
    "future_mainmonth_info['CN_ask_qty'] = 100\n",
    "future_mainmonth_info['IH_bid_qty'] = 100\n",
    "future_mainmonth_info['IH_ask_qty'] = 100\n",
    "future_mainmonth_info.drop(['CN_mid_price', 'IH_mid_price','USDCNY_mid_price','IH_mid_price_trans','USDCNY_Bid','USDCNY_Ask'], axis=1, inplace=True)\n",
    "# save\n",
    "future_mainmonth_info.to_csv('future_mainmonth_info.csv')"
   ]
  },
  {
   "cell_type": "markdown",
   "id": "7467a9bd",
   "metadata": {},
   "source": [
    "# 平稳性和协整检验\n",
    "- hurst exponent:\n",
    "    - https://quantstart.com/articles/Basics-of-Statistical-Mean-Reversion-Testing/\n",
    "    - https://mp.weixin.qq.com/s?__biz=MzAxMjUyNDQ5OA==&mid=2653580143&idx=1&sn=5085052a337397295bbde63086f184d0&chksm=806e45d2b719ccc49a11f55ac0f150efae231e16301fe74f93ffb6b34f4821925697ded7147d&scene=27"
   ]
  },
  {
   "cell_type": "code",
   "execution_count": null,
   "id": "9602bdba",
   "metadata": {
    "ExecuteTime": {
     "end_time": "2023-05-09T06:04:31.924759Z",
     "start_time": "2023-05-09T06:04:31.909845Z"
    }
   },
   "outputs": [],
   "source": [
    "# seq = future_mainmonth_info['CN_mid_price']\n",
    "# p_thres = 0.1\n",
    "# hurst, status, is_stationary, integrated_order = Univariate_Time_Series_Analysis(seq, p_thres).run()"
   ]
  },
  {
   "cell_type": "code",
   "execution_count": null,
   "id": "3df1bfb1",
   "metadata": {
    "ExecuteTime": {
     "end_time": "2023-05-09T06:04:31.940164Z",
     "start_time": "2023-05-09T06:04:31.925757Z"
    }
   },
   "outputs": [],
   "source": [
    "# seq = future_mainmonth_info['IH_mid_price_trans']\n",
    "# p_thres = 0.1\n",
    "# hurst, status, is_stationary, integrated_order = Univariate_Time_Series_Analysis(seq, p_thres).run()"
   ]
  },
  {
   "cell_type": "code",
   "execution_count": null,
   "id": "e4847b84",
   "metadata": {
    "ExecuteTime": {
     "end_time": "2023-05-09T06:04:31.956125Z",
     "start_time": "2023-05-09T06:04:31.942836Z"
    }
   },
   "outputs": [],
   "source": [
    "# seqs = future_mainmonth_info[['CN_mid_price', 'IH_mid_price_trans']]\n",
    "# p_thres = 0.1\n",
    "# granger_x_list, is_cointegrated, resid = Multivariate_Time_Series_Analysis(seqs, p_thres).run()\n",
    "# params, lags, tau = Univariate_Time_Series_Analysis(resid, p_thres).hurst()"
   ]
  },
  {
   "cell_type": "code",
   "execution_count": null,
   "id": "99d3cc3b",
   "metadata": {
    "ExecuteTime": {
     "end_time": "2023-05-09T06:04:31.971228Z",
     "start_time": "2023-05-09T06:04:31.957127Z"
    }
   },
   "outputs": [],
   "source": [
    "# params"
   ]
  },
  {
   "cell_type": "markdown",
   "id": "79d8d131",
   "metadata": {},
   "source": [
    "# Strategy Test"
   ]
  },
  {
   "cell_type": "code",
   "execution_count": null,
   "id": "a0e79c96",
   "metadata": {
    "ExecuteTime": {
     "end_time": "2023-05-09T07:12:10.029745Z",
     "start_time": "2023-05-09T07:12:10.009826Z"
    },
    "code_folding": [
     30,
     83,
     101
    ]
   },
   "outputs": [],
   "source": [
    "def calculate_spread_zscore(pairs, symbols, lookback=1000):\n",
    "    # a rolling linear regression between the two closing price time series\n",
    "    model = RollingOLS(\n",
    "        endog = pairs[symbols[0]].astype(float),\n",
    "        exog = sm.add_constant(pairs[symbols[1]]).astype(float),\n",
    "        window = lookback\n",
    "    )  # lookahead bias! \n",
    "    rres = model.fit()\n",
    "    params = rres.params.copy()\n",
    "    \n",
    "    pairs['hedge_ratio'] = params.iloc[:, 1]\n",
    "    pairs.dropna(inplace=True)\n",
    "    \n",
    "    pairs['spread'] = pairs[symbols[0]] - pairs[symbols[1]] * pairs['hedge_ratio']\n",
    "    pairs['spread_mean_roll'] = pairs['spread'].rolling(lookback).mean()  # lookahead bias! \n",
    "    pairs['spread_std_roll'] = pairs['spread'].rolling(lookback).std()  # lookahead bias! \n",
    "    pairs.dropna(inplace=True)\n",
    "    \n",
    "    pairs['zscore'] = (pairs['spread'] - pairs['spread_mean_roll']) / pairs['spread_std_roll']\n",
    "    return pairs\n",
    "\n",
    "def create_signal(pairs, symbols, z_entry_threshold=2.0, z_exit_threshold=1.0):\n",
    "    # Calculate when to be long, short and when to exit\n",
    "    pairs['signal_zscore'] = np.where(pairs['zscore']<=-z_entry_threshold,1,np.NaN)\n",
    "    pairs['signal_zscore'] = np.where(pairs['zscore']>=z_entry_threshold,-1,pairs['signal_zscore'])\n",
    "    pairs['signal_zscore'] = np.where(np.abs(pairs['zscore']) <= z_exit_threshold,0,pairs['signal_zscore'])\n",
    "    pairs['signal_zscore'] = pairs['signal_zscore'].fillna(method = 'ffill')  # lookahead bias! \n",
    "    pairs.dropna(inplace=True)\n",
    "    return pairs\n",
    "\n",
    "def create_portfolio_returns(pairs, symbols):\n",
    "    \n",
    "    last_signal_zscore = 0\n",
    "    realized_pnl = 0\n",
    "    realized_pnl_change = False\n",
    "    hedge_ratio = 0\n",
    "    side = 0\n",
    "    backtest_side = 0\n",
    "    funds_occupation = 0\n",
    "    entry = False\n",
    "    \n",
    "    for t in pairs.index:\n",
    "        if realized_pnl_change:\n",
    "            realized_pnl += (pairs.loc[t]['CN_mid_price'] - pairs.loc[t]['IH_mid_price_trans'] * hedge_ratio) * (-side)\n",
    "            if entry:\n",
    "                funds_occupation = abs(pairs.loc[t]['CN_mid_price']) + abs(pairs.loc[t]['IH_mid_price_trans'] * hedge_ratio)\n",
    "        \n",
    "        if (pairs.loc[t]['signal_zscore'] != last_signal_zscore) & (pairs.loc[t]['signal_zscore']!=0):\n",
    "            hedge_ratio = pairs.loc[t]['hedge_ratio']\n",
    "            side = pairs.loc[t]['signal_zscore']\n",
    "            backtest_side = side\n",
    "            last_signal_zscore = pairs.loc[t]['signal_zscore']\n",
    "            realized_pnl_change = True\n",
    "            entry = True\n",
    "            \n",
    "        elif (pairs.loc[t]['signal_zscore'] != last_signal_zscore) & (pairs.loc[t]['signal_zscore']==0):\n",
    "            hedge_ratio = hedge_ratio\n",
    "            side = -side\n",
    "            backtest_side = 0\n",
    "            last_signal_zscore = pairs.loc[t]['signal_zscore']\n",
    "            realized_pnl_change = True\n",
    "            entry = False\n",
    "            \n",
    "        else:\n",
    "            realized_pnl_change = False\n",
    "            \n",
    "        pairs.loc[t, 'realized_pnl'] = realized_pnl\n",
    "        pairs.loc[t, 'backtest_hedge_retio'] = hedge_ratio\n",
    "        pairs.loc[t, 'backtest_side'] = backtest_side\n",
    "        pairs.loc[t, 'funds_occupation'] = funds_occupation\n",
    "        \n",
    "    pairs['backtest_hedge_retio'] = pairs['backtest_hedge_retio'].shift()\n",
    "    pairs['backtest_side'] = pairs['backtest_side'].shift()\n",
    "    pairs = pairs.iloc[1:]\n",
    "    \n",
    "    pairs['unrealized_pnl'] = (pairs[symbols[0]] - pairs[symbols[1]]*pairs['backtest_hedge_retio']) * pairs['backtest_side']\n",
    "    pairs['total_pnl'] = pairs['unrealized_pnl'] + pairs['realized_pnl']\n",
    "    \n",
    "    max_funds_occupation = pairs['funds_occupation'].max()\n",
    "    pairs['accumulated_return'] = (pairs['total_pnl'] + max_funds_occupation)/max_funds_occupation\n",
    "\n",
    "    return pairs\n",
    "\n",
    "def evaluate_pnl_pos(portfolio):\n",
    "    accumulated_return = portfolio['accumulated_return']\n",
    "\n",
    "    # 进行最大回撤计算\n",
    "    peak = np.maximum.accumulate(accumulated_return)\n",
    "    draw_downs = (peak - accumulated_return) / peak\n",
    "    max_draw_down = np.amax(draw_downs)\n",
    "    # shape ratio\n",
    "    shape_ratio = ((accumulated_return.iloc[-1] - 1) - 0.02) / accumulated_return.std()\n",
    "    # 收益回撤比\n",
    "    cumret_mdd = (accumulated_return.iloc[-1] - 1) / max_draw_down\n",
    "    print('最大资金占用：', portfolio['funds_occupation'].max())\n",
    "    print('期间累计收益：', round((accumulated_return.iloc[-1] - 1) * 100, 2), '%')\n",
    "    print('期间最大回撤：', round(max_draw_down * 100, 2), '%')\n",
    "    print('shape ratio：', round(shape_ratio, 2))\n",
    "    print('收益回撤比：', round(cumret_mdd, 2))\n",
    "    print('\\n')\n",
    "\n",
    "def plot_pnl_pos(portfolio):\n",
    "    fig, ax = plt.subplots(4, 1, figsize=(18, 9))\n",
    "    plt.subplot(411)\n",
    "    plt.plot(portfolio.index, portfolio['unrealized_pnl'])\n",
    "    plt.title('未实现收益金额')\n",
    "    \n",
    "    plt.subplot(412)\n",
    "    plt.plot(portfolio.index, portfolio['realized_pnl'])\n",
    "    plt.title('实现收益金额')\n",
    "    \n",
    "    plt.subplot(413)\n",
    "    plt.plot(portfolio.index, portfolio['total_pnl'])\n",
    "    plt.title('总收益金额')\n",
    "    \n",
    "    plt.subplot(414)\n",
    "    plt.plot(portfolio.index, portfolio['accumulated_return'])\n",
    "    plt.title('累计收益率')\n",
    "    \n",
    "    plt.tight_layout()  # 调整子图之间的间距以最小化重叠\n",
    "    plt.show()"
   ]
  },
  {
   "cell_type": "code",
   "execution_count": null,
   "id": "3d356feb",
   "metadata": {
    "ExecuteTime": {
     "end_time": "2023-05-09T07:19:22.455128Z",
     "start_time": "2023-05-09T07:12:10.240879Z"
    },
    "scrolled": true
   },
   "outputs": [],
   "source": [
    "for i in [(i+1)*100 for i in range(17)]:\n",
    "    print(i)\n",
    "    # 一手价格，美元计价，考虑了考虑了合约乘数汇率\n",
    "    pairs_dataframe = future_mainmonth_info[['CN_Bid', 'CN_Ask', 'IH_Bid', 'IH_Ask', 'CN_mid_price', 'IH_mid_price_trans']]\n",
    "    pairs_dataframe = calculate_spread_zscore(pairs_dataframe, ['CN_mid_price', 'IH_mid_price_trans'], i)\n",
    "    pairs_dataframe = create_signal(pairs_dataframe, ['CN_mid_price', 'IH_mid_price_trans'])\n",
    "    pairs_dataframe = create_portfolio_returns(pairs_dataframe, ['CN_mid_price', 'IH_mid_price_trans'])\n",
    "    evaluate_pnl_pos(pairs_dataframe)\n",
    "    plot_pnl_pos(pairs_dataframe)"
   ]
  },
  {
   "cell_type": "code",
   "execution_count": null,
   "id": "48165914",
   "metadata": {
    "ExecuteTime": {
     "end_time": "2023-05-09T07:23:12.741373Z",
     "start_time": "2023-05-09T07:23:12.721427Z"
    }
   },
   "outputs": [],
   "source": [
    "pairs_dataframe"
   ]
  },
  {
   "cell_type": "code",
   "execution_count": null,
   "id": "2f8dc0af",
   "metadata": {},
   "outputs": [],
   "source": []
  }
 ],
 "metadata": {
  "kernelspec": {
   "display_name": "Python 3 (ipykernel)",
   "language": "python",
   "name": "python3"
  },
  "language_info": {
   "codemirror_mode": {
    "name": "ipython",
    "version": 3
   },
   "file_extension": ".py",
   "mimetype": "text/x-python",
   "name": "python",
   "nbconvert_exporter": "python",
   "pygments_lexer": "ipython3",
   "version": "3.10.9"
  },
  "toc": {
   "base_numbering": 1,
   "nav_menu": {},
   "number_sections": true,
   "sideBar": true,
   "skip_h1_title": false,
   "title_cell": "Table of Contents",
   "title_sidebar": "Contents",
   "toc_cell": false,
   "toc_position": {},
   "toc_section_display": true,
   "toc_window_display": false
  }
 },
 "nbformat": 4,
 "nbformat_minor": 5
}
