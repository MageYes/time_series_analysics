{
 "cells": [
  {
   "cell_type": "code",
   "execution_count": null,
   "id": "45e52272",
   "metadata": {
    "ExecuteTime": {
     "start_time": "2023-05-12T01:38:55.839Z"
    }
   },
   "outputs": [],
   "source": [
    "import datetime\n",
    "import time\n",
    "import calendar\n",
    "\n",
    "def job():\n",
    "    # 在这里写下你需要执行的代码逻辑\n",
    "    print(datetime.datetime.now(), \"Hello, world!\")\n",
    "\n",
    "while True:\n",
    "    now = datetime.datetime.now()\n",
    "    # 如果今天是周末，则等待到下一个工作日，now.weekday()返回0——6，分别对应星期一至星期日\n",
    "    if now.weekday() >= 5:\n",
    "        next_weekday = (now.date() + datetime.timedelta(days=7-now.weekday())).strftime(\"%Y-%m-%d\")\n",
    "        print(f\"Today is {calendar.day_name[now.weekday()]}, waiting until {next_weekday}\")\n",
    "        time.sleep(86400) # 每隔24小时检查一次\n",
    "        continue\n",
    "        \n",
    "    tomorrow = now + datetime.timedelta(days=1)\n",
    "    _hour = 8\n",
    "    _minute = 50\n",
    "    target_time_1 = datetime.datetime.combine(now.date(), datetime.time(hour=_hour, minute=_minute))\n",
    "    target_time_2 = datetime.datetime.combine(tomorrow.date(), datetime.time(hour=_hour, minute=_minute))\n",
    "    time_diff_1 = (target_time_1 - now).total_seconds()\n",
    "    time_diff_2 = (target_time_2 - now).total_seconds()\n",
    "    \n",
    "    if time_diff_1 > 900:\n",
    "        time.sleep(time_diff_1 - 900) # 等待到target_time_1前15分钟再次检查\n",
    "    elif (time_diff_1 > 0) & (time_diff_1 <= 900):\n",
    "        job() # 执行代码逻辑\n",
    "        time.sleep(5) # 延迟5秒避免重复执行\n",
    "    else:\n",
    "        time.sleep(time_diff_2 - 900) # 等待到target_time_2前15分钟再次检查"
   ]
  },
  {
   "cell_type": "code",
   "execution_count": null,
   "id": "5a371cf0",
   "metadata": {
    "ExecuteTime": {
     "start_time": "2023-05-12T09:12:56.138Z"
    }
   },
   "outputs": [],
   "source": [
    "import datetime\n",
    "import time\n",
    "import holidays\n",
    "\n",
    "def job():\n",
    "    # 在这里写下你需要执行的代码逻辑\n",
    "    print(datetime.datetime.now(), \"Hello, world!\")\n",
    "    \n",
    "# 初始化节日列表\n",
    "CHINA_HOLIDAYS = holidays.China()\n",
    "\n",
    "while True:\n",
    "    # 获取当前日期和时间\n",
    "    now = datetime.datetime.now()\n",
    "    \n",
    "    is_weekday = now.weekday() < 5\n",
    "    not_CHINA_HOLIDAYS = not CHINA_HOLIDAYS.get(now.date())\n",
    "    \n",
    "    hour = 8\n",
    "    minute = 50\n",
    "    period_length = 900\n",
    "    tomorrow = now + datetime.timedelta(days=1)\n",
    "    target_time_1 = datetime.datetime.combine(now.date(), datetime.time(hour=hour, minute=minute))\n",
    "    target_time_2 = datetime.datetime.combine(tomorrow.date(), datetime.time(hour=hour, minute=minute))\n",
    "    time_diff_1 = (target_time_1 - now).total_seconds()\n",
    "    time_diff_2 = (target_time_2 - now).total_seconds()\n",
    "    \n",
    "    if is_weekday & not_CHINA_HOLIDAYS & (time_diff_1>0):\n",
    "        if time_diff_1 > period_length:\n",
    "            time.sleep(time_diff_1 - period_length) # 等待到当天前15分钟再次检查\n",
    "        elif time_diff_1 <= period_length:\n",
    "            job() # 执行代码逻辑\n",
    "            time.sleep(5) # 延迟5秒避免重复执行\n",
    "    else:\n",
    "        # 等待到第二天前15分钟再次检查\n",
    "        time.sleep(time_diff_2 - period_length)"
   ]
  },
  {
   "cell_type": "code",
   "execution_count": null,
   "id": "3dfbeeba",
   "metadata": {},
   "outputs": [],
   "source": []
  }
 ],
 "metadata": {
  "kernelspec": {
   "display_name": "Python 3 (ipykernel)",
   "language": "python",
   "name": "python3"
  },
  "language_info": {
   "codemirror_mode": {
    "name": "ipython",
    "version": 3
   },
   "file_extension": ".py",
   "mimetype": "text/x-python",
   "name": "python",
   "nbconvert_exporter": "python",
   "pygments_lexer": "ipython3",
   "version": "3.10.9"
  },
  "toc": {
   "base_numbering": 1,
   "nav_menu": {},
   "number_sections": true,
   "sideBar": true,
   "skip_h1_title": false,
   "title_cell": "Table of Contents",
   "title_sidebar": "Contents",
   "toc_cell": false,
   "toc_position": {},
   "toc_section_display": true,
   "toc_window_display": false
  }
 },
 "nbformat": 4,
 "nbformat_minor": 5
}
